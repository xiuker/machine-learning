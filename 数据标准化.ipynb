{
 "cells": [
  {
   "cell_type": "code",
   "execution_count": 1,
   "metadata": {},
   "outputs": [],
   "source": [
    "import numpy as np\n",
    "import matplotlib.pyplot as plt\n",
    "from ML.knn import kNN_classify\n",
    "from ML.model_selection import train_test_split\n",
    "from ML.metrics import accuracy_score"
   ]
  },
  {
   "cell_type": "code",
   "execution_count": 2,
   "metadata": {},
   "outputs": [],
   "source": [
    "# 有两种品种的树苗\n",
    "# 树苗的直径cm  生长天数\n",
    "X = np.array([\n",
    "    [1.0, 100],\n",
    "    [1.1, 200],\n",
    "    [0.9, 150],\n",
    "    [0.2, 190],\n",
    "    [1.0, 100],\n",
    "    [1.1, 200],\n",
    "    [0.7, 150],\n",
    "    [0.2, 190],\n",
    "    [2.1, 250],\n",
    "    [1.8, 220],\n",
    "    [2.2, 290],\n",
    "    [1.9, 270],\n",
    "    [2.1, 390],\n",
    "    [1.8, 220],\n",
    "    [2.2, 258],\n",
    "    [1.9, 360],\n",
    "])\n",
    "y = np.array([0, 0, 0, 0, 0, 0, 0, 0, 1, 1, 1, 1, 1, 1, 1, 1])"
   ]
  },
  {
   "cell_type": "code",
   "execution_count": 3,
   "metadata": {},
   "outputs": [
    {
     "data": {
      "image/png": "[encoded data removed]",
      "text/plain": [
       "<Figure size 432x288 with 1 Axes>"
      ]
     },
     "metadata": {
      "needs_background": "light"
     },
     "output_type": "display_data"
    }
   ],
   "source": [
    "plt.scatter(X[y==0, 0], X[y==0, 1], color='r')\n",
    "plt.scatter(X[y==1, 0], X[y==1, 1], color='g')\n",
    "plt.show()"
   ]
  },
  {
   "cell_type": "code",
   "execution_count": 4,
   "metadata": {},
   "outputs": [
    {
     "data": {
      "text/plain": [
       "0.5"
      ]
     },
     "execution_count": 4,
     "metadata": {},
     "output_type": "execute_result"
    }
   ],
   "source": [
    "X_train, X_test, y_train, y_test = train_test_split(X, y, test_size=0.25, seed = 100)\n",
    "y_predict = kNN_classify(X_train, y_train, X_test)\n",
    "accuracy_score(y_test,y_predict)"
   ]
  },
  {
   "cell_type": "code",
   "execution_count": 5,
   "metadata": {},
   "outputs": [],
   "source": [
    "# 标准化按照比例进行缩放，使其落入小的空间之中\n",
    "# 变成均值为0，标准差为1的数据,去除量纲对结果的影响"
   ]
  },
  {
   "cell_type": "code",
   "execution_count": 6,
   "metadata": {},
   "outputs": [
    {
     "data": {
      "text/plain": [
       "array([-0.57775121, -0.42865412, -0.72684829, -1.77052789, -0.57775121,\n",
       "       -0.42865412, -1.02504246, -1.77052789,  1.06231674,  0.61502548,\n",
       "        1.21141382,  0.76412256,  1.06231674,  0.61502548,  1.21141382,\n",
       "        0.76412256])"
      ]
     },
     "execution_count": 6,
     "metadata": {},
     "output_type": "execute_result"
    }
   ],
   "source": [
    "X[:, 0] = (X[:, 0] - np.mean(X[:, 0])) / np.std(X[:, 0])\n",
    "X[:, 0]"
   ]
  },
  {
   "cell_type": "code",
   "execution_count": 7,
   "metadata": {},
   "outputs": [
    {
     "data": {
      "text/plain": [
       "9.71445146547012e-17"
      ]
     },
     "execution_count": 7,
     "metadata": {},
     "output_type": "execute_result"
    }
   ],
   "source": [
    "np.mean(X[:, 0])"
   ]
  },
  {
   "cell_type": "code",
   "execution_count": 8,
   "metadata": {},
   "outputs": [
    {
     "data": {
      "text/plain": [
       "0.9999999999999999"
      ]
     },
     "execution_count": 8,
     "metadata": {},
     "output_type": "execute_result"
    }
   ],
   "source": [
    "np.std(X[:, 0])"
   ]
  },
  {
   "cell_type": "code",
   "execution_count": 9,
   "metadata": {},
   "outputs": [
    {
     "data": {
      "text/plain": [
       "array([-1.53655713, -0.26798571, -0.90227142, -0.39484285, -1.53655713,\n",
       "       -0.26798571, -0.90227142, -0.39484285,  0.3663    , -0.01427143,\n",
       "        0.87372856,  0.62001428,  2.14229998, -0.01427143,  0.46778571,\n",
       "        1.76172855])"
      ]
     },
     "execution_count": 9,
     "metadata": {},
     "output_type": "execute_result"
    }
   ],
   "source": [
    "X[:, 1] = (X[:, 1] - np.mean(X[:, 1])) / np.std(X[:, 1])\n",
    "X[:, 1]"
   ]
  },
  {
   "cell_type": "code",
   "execution_count": 10,
   "metadata": {},
   "outputs": [
    {
     "data": {
      "text/plain": [
       "array([[-0.57775121, -1.53655713],\n",
       "       [-0.42865412, -0.26798571],\n",
       "       [-0.72684829, -0.90227142],\n",
       "       [-1.77052789, -0.39484285],\n",
       "       [-0.57775121, -1.53655713],\n",
       "       [-0.42865412, -0.26798571],\n",
       "       [-1.02504246, -0.90227142],\n",
       "       [-1.77052789, -0.39484285],\n",
       "       [ 1.06231674,  0.3663    ],\n",
       "       [ 0.61502548, -0.01427143],\n",
       "       [ 1.21141382,  0.87372856],\n",
       "       [ 0.76412256,  0.62001428],\n",
       "       [ 1.06231674,  2.14229998],\n",
       "       [ 0.61502548, -0.01427143],\n",
       "       [ 1.21141382,  0.46778571],\n",
       "       [ 0.76412256,  1.76172855]])"
      ]
     },
     "execution_count": 10,
     "metadata": {},
     "output_type": "execute_result"
    }
   ],
   "source": [
    "X"
   ]
  },
  {
   "cell_type": "code",
   "execution_count": 11,
   "metadata": {},
   "outputs": [],
   "source": [
    "y = np.array([0, 0, 0, 0, 0, 0, 0, 0, 1, 1, 1, 1, 1, 1, 1, 1])"
   ]
  },
  {
   "cell_type": "code",
   "execution_count": 12,
   "metadata": {},
   "outputs": [
    {
     "data": {
      "image/png": "[encoded data removed]",
      "text/plain": [
       "<Figure size 432x288 with 1 Axes>"
      ]
     },
     "metadata": {
      "needs_background": "light"
     },
     "output_type": "display_data"
    }
   ],
   "source": [
    "plt.scatter(X[y==0, 0], X[y==0, 1], color='r')\n",
    "plt.scatter(X[y==1, 0], X[y==1, 1], color='g')\n",
    "plt.show()"
   ]
  },
  {
   "cell_type": "code",
   "execution_count": 13,
   "metadata": {},
   "outputs": [
    {
     "data": {
      "text/plain": [
       "1.0"
      ]
     },
     "execution_count": 13,
     "metadata": {},
     "output_type": "execute_result"
    }
   ],
   "source": [
    "X_train, X_test, y_train, y_test = train_test_split(X, y, test_size=0.25, seed = 100)\n",
    "y_predict = kNN_classify(X_train, y_train, X_test)\n",
    "accuracy_score(y_test,y_predict)"
   ]
  },
  {
   "cell_type": "code",
   "execution_count": 14,
   "metadata": {},
   "outputs": [],
   "source": [
    "from ML.preprocessing import StandardScaler"
   ]
  },
  {
   "cell_type": "code",
   "execution_count": 15,
   "metadata": {},
   "outputs": [],
   "source": [
    "# 有两种品种的树苗\n",
    "# 树苗的直径cm  生长天数\n",
    "X = np.array([\n",
    "    [1.0, 100],\n",
    "    [1.1, 200],\n",
    "    [0.9, 150],\n",
    "    [0.2, 190],\n",
    "    [1.0, 100],\n",
    "    [1.1, 200],\n",
    "    [0.7, 150],\n",
    "    [0.2, 190],\n",
    "    [2.1, 250],\n",
    "    [1.8, 220],\n",
    "    [2.2, 290],\n",
    "    [1.9, 270],\n",
    "    [2.1, 390],\n",
    "    [1.8, 220],\n",
    "    [2.2, 258],\n",
    "    [1.9, 360],\n",
    "])"
   ]
  },
  {
   "cell_type": "code",
   "execution_count": 21,
   "metadata": {},
   "outputs": [],
   "source": [
    "standardScaler = StandardScaler(X)\n",
    "# standardScaler.fit(X)"
   ]
  },
  {
   "cell_type": "code",
   "execution_count": 22,
   "metadata": {},
   "outputs": [
    {
     "data": {
      "text/plain": [
       "array([  1.3875, 221.125 ])"
      ]
     },
     "execution_count": 22,
     "metadata": {},
     "output_type": "execute_result"
    }
   ],
   "source": [
    "standardScaler.mean_"
   ]
  },
  {
   "cell_type": "code",
   "execution_count": 23,
   "metadata": {},
   "outputs": [
    {
     "data": {
      "text/plain": [
       "array([ 0.67070392, 78.82882959])"
      ]
     },
     "execution_count": 23,
     "metadata": {},
     "output_type": "execute_result"
    }
   ],
   "source": [
    "standardScaler.scale_"
   ]
  },
  {
   "cell_type": "code",
   "execution_count": 24,
   "metadata": {},
   "outputs": [
    {
     "data": {
      "text/plain": [
       "array([[-0.57775121, -1.53655713],\n",
       "       [-0.42865412, -0.26798571],\n",
       "       [-0.72684829, -0.90227142],\n",
       "       [-1.77052789, -0.39484285],\n",
       "       [-0.57775121, -1.53655713],\n",
       "       [-0.42865412, -0.26798571],\n",
       "       [-1.02504246, -0.90227142],\n",
       "       [-1.77052789, -0.39484285],\n",
       "       [ 1.06231674,  0.3663    ],\n",
       "       [ 0.61502548, -0.01427143],\n",
       "       [ 1.21141382,  0.87372856],\n",
       "       [ 0.76412256,  0.62001428],\n",
       "       [ 1.06231674,  2.14229998],\n",
       "       [ 0.61502548, -0.01427143],\n",
       "       [ 1.21141382,  0.46778571],\n",
       "       [ 0.76412256,  1.76172855]])"
      ]
     },
     "execution_count": 24,
     "metadata": {},
     "output_type": "execute_result"
    }
   ],
   "source": [
    "X2 = standardScaler.transform(X)\n",
    "X2"
   ]
  },
  {
   "cell_type": "code",
   "execution_count": 25,
   "metadata": {},
   "outputs": [
    {
     "data": {
      "text/plain": [
       "1.0"
      ]
     },
     "execution_count": 25,
     "metadata": {},
     "output_type": "execute_result"
    }
   ],
   "source": [
    "X_train, X_test, y_train, y_test = train_test_split(X2, y, test_size=0.25, seed = 100)\n",
    "y_predict = kNN_classify(X_train, y_train, X_test)\n",
    "accuracy_score(y_test,y_predict)"
   ]
  },
  {
   "cell_type": "code",
   "execution_count": null,
   "metadata": {},
   "outputs": [],
   "source": []
  }
 ],
 "metadata": {
  "kernelspec": {
   "display_name": "Python 3",
   "language": "python",
   "name": "python3"
  },
  "language_info": {
   "codemirror_mode": {
    "name": "ipython",
    "version": 3
   },
   "file_extension": ".py",
   "mimetype": "text/x-python",
   "name": "python",
   "nbconvert_exporter": "python",
   "pygments_lexer": "ipython3",
   "version": "3.6.5"
  }
 },
 "nbformat": 4,
 "nbformat_minor": 2
}
