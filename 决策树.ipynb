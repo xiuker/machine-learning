{
 "cells": [
  {
   "cell_type": "code",
   "execution_count": 7,
   "metadata": {},
   "outputs": [],
   "source": [
    "import numpy as np\n",
    "import matplotlib.pyplot as plt\n",
    "from collections import Counter"
   ]
  },
  {
   "cell_type": "code",
   "execution_count": 8,
   "metadata": {},
   "outputs": [],
   "source": [
    "X = np.loadtxt('x.txt')\n",
    "X = X[:, 2:]\n",
    "y = np.loadtxt('y.txt')"
   ]
  },
  {
   "cell_type": "code",
   "execution_count": 9,
   "metadata": {},
   "outputs": [
    {
     "data": {
      "image/png": "[encoded data removed]",
      "text/plain": [
       "<Figure size 432x288 with 1 Axes>"
      ]
     },
     "metadata": {
      "needs_background": "light"
     },
     "output_type": "display_data"
    }
   ],
   "source": [
    "plt.scatter(X[y==0, 0], X[y==0, 1], color='r')\n",
    "plt.scatter(X[y==1, 0], X[y==1, 1], color='g')\n",
    "plt.scatter(X[y==2, 0], X[y==2, 1], color='b')\n",
    "plt.show()"
   ]
  },
  {
   "cell_type": "code",
   "execution_count": 11,
   "metadata": {},
   "outputs": [],
   "source": [
    "def gini(y):\n",
    "    counter = Counter(y)\n",
    "    result = 0\n",
    "    for v in counter.values():\n",
    "        result += (v/ len(y))**2\n",
    "    return 1-result\n",
    "def cut(X, y, v, d):\n",
    "    ind_left = (X[:, d] <= v)\n",
    "    ind_right = (X[:, d] > v)\n",
    "    return X[ind_left], X[ind_right], y[ind_left], y[ind_right]\n",
    "\n",
    "def try_split(X, y):\n",
    "    best_g, best_d, best_v = 1, -1, -1\n",
    "    for d in range(X.shape[1]):\n",
    "        sorted_ind = np.argsort(X[:, d])\n",
    "        for i in range(len(X) - 1):\n",
    "            if X[sorted_ind[i], d] == X[sorted_ind[i+1], d]:\n",
    "                continue\n",
    "            v = (X[sorted_ind[i], d] + X[sorted_ind[i+1], d])/2\n",
    "            X_left, X_right, y_left, y_right = cut(X, y, v, d)\n",
    "            g_all = gini(y_left) + gini(y_right)\n",
    "            if g_all < best_g:\n",
    "                best_g, best_d, best_v =g_all, d, v\n",
    "    return best_d, best_v, best_g"
   ]
  },
  {
   "cell_type": "code",
   "execution_count": 12,
   "metadata": {},
   "outputs": [
    {
     "data": {
      "text/plain": [
       "(0, 2.45, 0.5)"
      ]
     },
     "execution_count": 12,
     "metadata": {},
     "output_type": "execute_result"
    }
   ],
   "source": [
    "try_split(X, y)"
   ]
  },
  {
   "cell_type": "code",
   "execution_count": 23,
   "metadata": {},
   "outputs": [],
   "source": [
    "class Node():\n",
    "    def __init__(self, d=None, v=None, g=None, l=None):\n",
    "        self.dim, self.value, self.gini, self.label = d, v, g, l\n",
    "        self.children_left, self.children_right = None, None\n",
    "    def __repr__(self):\n",
    "        return 'Node(d={}, v={}, g={}, l={})'.format(self.dim, self.value, self.gini, self.label)"
   ]
  },
  {
   "cell_type": "code",
   "execution_count": null,
   "metadata": {},
   "outputs": [],
   "source": [
    "class Node:\n",
    "    def __init__(self,d=None,v=None,g=None,l=None):\n",
    "        self.d, self.v, self.g, self.l = d, v, g, l\n",
    "        self.children_left, self.children_right = None, None\n",
    "    def __repr__(self):\n",
    "        return \n",
    "    __repr__ == __str__"
   ]
  },
  {
   "cell_type": "code",
   "execution_count": 27,
   "metadata": {},
   "outputs": [],
   "source": [
    "def create_tree(X, y):\n",
    "    d, v, g = try_split(X, y)\n",
    "    if d == -1 or g == 0:\n",
    "        return None\n",
    "    node = Node(d, v, g)\n",
    "    \n",
    "    X_left, X_right, y_left, y_right = cut(X, y, v, d)\n",
    "    \n",
    "    node.children_left = create_tree(X_left, y_left)\n",
    "    if node.children_left is None:\n",
    "        # label\n",
    "        label = Counter(y_left).most_common(1)[0][0]\n",
    "        node.children_left = Node(l=label)\n",
    "        \n",
    "    node.children_right = create_tree(X_right, y_right)\n",
    "    if node.children_right is None:\n",
    "        # label\n",
    "        label = Counter(y_right).most_common(1)[0][0]\n",
    "        node.children_right = Node(l=label)\n",
    "        \n",
    "    return node"
   ]
  },
  {
   "cell_type": "code",
   "execution_count": null,
   "metadata": {},
   "outputs": [],
   "source": [
    "def creat_tree(X ,y):\n",
    "    d, v, g = try_split(X, y)\n",
    "    if d==-1 or g==0:\n",
    "        return None\n",
    "    node = Node(d,v,g)\n",
    "    X_left, X_right, y_left, y_right = cut(X, y, v, d)\n",
    "    node.children_left = creat_tree(X_left, y_left)\n",
    "    if creat_tree(X_left, y_left) is None:\n",
    "        node.children_left = Node(l=Counter(y_left).most_common(1)[0][0])"
   ]
  },
  {
   "cell_type": "code",
   "execution_count": 28,
   "metadata": {},
   "outputs": [
    {
     "data": {
      "text/plain": [
       "Node(d=0, v=2.45, g=0.5, l=None)"
      ]
     },
     "execution_count": 28,
     "metadata": {},
     "output_type": "execute_result"
    }
   ],
   "source": [
    "tree = create_tree(X, y)\n",
    "tree"
   ]
  },
  {
   "cell_type": "code",
   "execution_count": 29,
   "metadata": {},
   "outputs": [
    {
     "data": {
      "text/plain": [
       "Node(d=None, v=None, g=None, l=0.0)"
      ]
     },
     "execution_count": 29,
     "metadata": {},
     "output_type": "execute_result"
    }
   ],
   "source": [
    "tree.children_left"
   ]
  },
  {
   "cell_type": "code",
   "execution_count": 30,
   "metadata": {},
   "outputs": [
    {
     "data": {
      "text/plain": [
       "Node(d=1, v=1.75, g=0.21057149006459386, l=None)"
      ]
     },
     "execution_count": 30,
     "metadata": {},
     "output_type": "execute_result"
    }
   ],
   "source": [
    "tree.children_right"
   ]
  },
  {
   "cell_type": "code",
   "execution_count": 33,
   "metadata": {},
   "outputs": [
    {
     "data": {
      "text/plain": [
       "Node(d=0, v=5.35, g=0.10872781065088755, l=None)"
      ]
     },
     "execution_count": 33,
     "metadata": {},
     "output_type": "execute_result"
    }
   ],
   "source": [
    "tree.children_right.children_left"
   ]
  },
  {
   "cell_type": "code",
   "execution_count": 34,
   "metadata": {},
   "outputs": [
    {
     "data": {
      "text/plain": [
       "Node(d=0, v=3.15, g=0.11072664359861584, l=None)"
      ]
     },
     "execution_count": 34,
     "metadata": {},
     "output_type": "execute_result"
    }
   ],
   "source": [
    "tree.children_right.children_left.children_left"
   ]
  },
  {
   "cell_type": "code",
   "execution_count": null,
   "metadata": {},
   "outputs": [],
   "source": []
  },
  {
   "cell_type": "code",
   "execution_count": 46,
   "metadata": {},
   "outputs": [],
   "source": [
    "def show_tree(node):\n",
    "    if node is None:\n",
    "        return ''\n",
    "    \n",
    "    result = '{} [label=\"{}\"]'.format(id(node), node)\n",
    "    \n",
    "    if node.children_left is not None:\n",
    "        result += '{} [label=\"{}\"]\\n'.format(id(node.children_left), node.children_left)\n",
    "        result += '\"{}\" -> \"{}\"\\n'.format(id(node), id(node.children_left))\n",
    "        result += show_tree(node.children_left)\n",
    "        \n",
    "    if node.children_right is not None:\n",
    "        result += '{} [label=\"{}\"]\\n'.format(id(node.children_right), node.children_right)\n",
    "        result += '\"{}\" -> \"{}\"\\n'.format(id(node), id(node.children_right))\n",
    "        result += show_tree(node.children_right)\n",
    "        \n",
    "    return result\n",
    "        "
   ]
  },
  {
   "cell_type": "code",
   "execution_count": 47,
   "metadata": {},
   "outputs": [],
   "source": [
    "# print('digraph{\\n')\n",
    "# print(show_tree(tree))\n",
    "# print('}\\n')"
   ]
  },
  {
   "cell_type": "code",
   "execution_count": 48,
   "metadata": {},
   "outputs": [],
   "source": [
    "with open('temp.dot', 'w') as f:\n",
    "    f.write('digraph{\\n'+ show_tree(tree) + '}\\n')"
   ]
  },
  {
   "cell_type": "code",
   "execution_count": null,
   "metadata": {},
   "outputs": [],
   "source": []
  },
  {
   "cell_type": "markdown",
   "metadata": {},
   "source": [
    "## 使用决策树进行分类"
   ]
  },
  {
   "cell_type": "code",
   "execution_count": 49,
   "metadata": {},
   "outputs": [],
   "source": [
    "def predict(x, node):\n",
    "    if node.label is not None:\n",
    "        return node.label\n",
    "    \n",
    "    if x[node.dim] <= node.value:\n",
    "        #left\n",
    "        return predict(x, node.children_left)\n",
    "    else:\n",
    "        #right\n",
    "        return predict(x, node.children_right)"
   ]
  },
  {
   "cell_type": "code",
   "execution_count": 50,
   "metadata": {},
   "outputs": [
    {
     "data": {
      "text/plain": [
       "0.0"
      ]
     },
     "execution_count": 50,
     "metadata": {},
     "output_type": "execute_result"
    }
   ],
   "source": [
    "predict(X[0], tree)"
   ]
  },
  {
   "cell_type": "code",
   "execution_count": 51,
   "metadata": {},
   "outputs": [
    {
     "data": {
      "text/plain": [
       "2.0"
      ]
     },
     "execution_count": 51,
     "metadata": {},
     "output_type": "execute_result"
    }
   ],
   "source": [
    "predict(X[100], tree)"
   ]
  },
  {
   "cell_type": "code",
   "execution_count": 52,
   "metadata": {},
   "outputs": [
    {
     "data": {
      "text/plain": [
       "0.0"
      ]
     },
     "execution_count": 52,
     "metadata": {},
     "output_type": "execute_result"
    }
   ],
   "source": [
    "predict(X[23], tree)"
   ]
  },
  {
   "cell_type": "code",
   "execution_count": null,
   "metadata": {},
   "outputs": [],
   "source": []
  }
 ],
 "metadata": {
  "kernelspec": {
   "display_name": "Python 3",
   "language": "python",
   "name": "python3"
  },
  "language_info": {
   "codemirror_mode": {
    "name": "ipython",
    "version": 3
   },
   "file_extension": ".py",
   "mimetype": "text/x-python",
   "name": "python",
   "nbconvert_exporter": "python",
   "pygments_lexer": "ipython3",
   "version": "3.6.5"
  }
 },
 "nbformat": 4,
 "nbformat_minor": 2
}
